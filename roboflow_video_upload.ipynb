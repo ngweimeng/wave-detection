{
 "cells": [
  {
   "cell_type": "markdown",
   "id": "10ef949a",
   "metadata": {},
   "source": [
    "# Upload Video to Roboflow\n",
    "\n",
    "This notebook utilizes FFMPEG to break a video into images and upload each image to the Roboflow Project (i.e. Wave Detection)"
   ]
  },
  {
   "cell_type": "code",
   "execution_count": 1,
   "id": "e8781ced",
   "metadata": {},
   "outputs": [
    {
     "name": "stdout",
     "output_type": "stream",
     "text": [
      "Requirement already satisfied: roboflow in ./.venv/lib/python3.12/site-packages (1.1.63)\n",
      "Requirement already satisfied: certifi in ./.venv/lib/python3.12/site-packages (from roboflow) (2025.4.26)\n",
      "Requirement already satisfied: idna==3.7 in ./.venv/lib/python3.12/site-packages (from roboflow) (3.7)\n",
      "Requirement already satisfied: cycler in ./.venv/lib/python3.12/site-packages (from roboflow) (0.12.1)\n",
      "Requirement already satisfied: kiwisolver>=1.3.1 in ./.venv/lib/python3.12/site-packages (from roboflow) (1.4.8)\n",
      "Requirement already satisfied: matplotlib in ./.venv/lib/python3.12/site-packages (from roboflow) (3.10.1)\n",
      "Requirement already satisfied: numpy>=1.18.5 in ./.venv/lib/python3.12/site-packages (from roboflow) (2.2.5)\n",
      "Requirement already satisfied: opencv-python-headless==4.10.0.84 in ./.venv/lib/python3.12/site-packages (from roboflow) (4.10.0.84)\n",
      "Requirement already satisfied: Pillow>=7.1.2 in ./.venv/lib/python3.12/site-packages (from roboflow) (11.2.1)\n",
      "Requirement already satisfied: pillow-heif>=0.18.0 in ./.venv/lib/python3.12/site-packages (from roboflow) (0.22.0)\n",
      "Requirement already satisfied: python-dateutil in ./.venv/lib/python3.12/site-packages (from roboflow) (2.9.0.post0)\n",
      "Requirement already satisfied: python-dotenv in ./.venv/lib/python3.12/site-packages (from roboflow) (1.1.0)\n",
      "Requirement already satisfied: requests in ./.venv/lib/python3.12/site-packages (from roboflow) (2.32.3)\n",
      "Requirement already satisfied: six in ./.venv/lib/python3.12/site-packages (from roboflow) (1.17.0)\n",
      "Requirement already satisfied: urllib3>=1.26.6 in ./.venv/lib/python3.12/site-packages (from roboflow) (2.4.0)\n",
      "Requirement already satisfied: tqdm>=4.41.0 in ./.venv/lib/python3.12/site-packages (from roboflow) (4.67.1)\n",
      "Requirement already satisfied: PyYAML>=5.3.1 in ./.venv/lib/python3.12/site-packages (from roboflow) (6.0.2)\n",
      "Requirement already satisfied: requests-toolbelt in ./.venv/lib/python3.12/site-packages (from roboflow) (1.0.0)\n",
      "Requirement already satisfied: filetype in ./.venv/lib/python3.12/site-packages (from roboflow) (1.2.0)\n",
      "Requirement already satisfied: contourpy>=1.0.1 in ./.venv/lib/python3.12/site-packages (from matplotlib->roboflow) (1.3.2)\n",
      "Requirement already satisfied: fonttools>=4.22.0 in ./.venv/lib/python3.12/site-packages (from matplotlib->roboflow) (4.57.0)\n",
      "Requirement already satisfied: packaging>=20.0 in ./.venv/lib/python3.12/site-packages (from matplotlib->roboflow) (25.0)\n",
      "Requirement already satisfied: pyparsing>=2.3.1 in ./.venv/lib/python3.12/site-packages (from matplotlib->roboflow) (3.2.3)\n",
      "Requirement already satisfied: charset-normalizer<4,>=2 in ./.venv/lib/python3.12/site-packages (from requests->roboflow) (3.4.2)\n",
      "\n",
      "\u001b[1m[\u001b[0m\u001b[34;49mnotice\u001b[0m\u001b[1;39;49m]\u001b[0m\u001b[39;49m A new release of pip is available: \u001b[0m\u001b[31;49m25.1\u001b[0m\u001b[39;49m -> \u001b[0m\u001b[32;49m25.1.1\u001b[0m\n",
      "\u001b[1m[\u001b[0m\u001b[34;49mnotice\u001b[0m\u001b[1;39;49m]\u001b[0m\u001b[39;49m To update, run: \u001b[0m\u001b[32;49mpip install --upgrade pip\u001b[0m\n"
     ]
    }
   ],
   "source": [
    "!pip install roboflow"
   ]
  },
  {
   "cell_type": "markdown",
   "id": "2fee8e40",
   "metadata": {},
   "source": [
    "## FFMPEG Installation"
   ]
  },
  {
   "cell_type": "code",
   "execution_count": 2,
   "id": "d591959b",
   "metadata": {},
   "outputs": [
    {
     "name": "stdout",
     "output_type": "stream",
     "text": [
      "Installation finished.\n"
     ]
    }
   ],
   "source": [
    "from IPython.display import clear_output\n",
    "import sys, os, urllib.request\n",
    "\n",
    "HOME = os.path.expanduser(\"~\")\n",
    "ttmg_path = f\"{HOME}/.ipython\"\n",
    "hCode = \"https://raw.githubusercontent.com/yunooooo/gcct/master/res/ttmg.py\"\n",
    "\n",
    "os.makedirs(ttmg_path, exist_ok=True)\n",
    "urllib.request.urlretrieve(hCode, f\"{ttmg_path}/ttmg.py\")\n",
    "\n",
    "sys.path.append(ttmg_path)\n",
    "from ttmg import loadingAn, textAn\n",
    "\n",
    "loadingAn(name=\"lds\")\n",
    "textAn(\"Installing Dependencies...\", ty='twg')\n",
    "\n",
    "# Use HTTPS instead of git://\n",
    "os.system('pip install git+https://github.com/AWConant/jikanpy.git')\n",
    "\n",
    "# These work only if Homebrew is installed\n",
    "os.system('brew install mediainfo')\n",
    "os.system('brew install ffmpeg')\n",
    "\n",
    "clear_output()\n",
    "print('Installation finished.')\n"
   ]
  },
  {
   "cell_type": "markdown",
   "id": "f0f92d97",
   "metadata": {},
   "source": [
    "## Access Video"
   ]
  },
  {
   "cell_type": "code",
   "execution_count": 3,
   "id": "a6456790",
   "metadata": {},
   "outputs": [
    {
     "name": "stdout",
     "output_type": "stream",
     "text": [
      "/Users/ngweimeng/Desktop/repositories/wave-detection\n"
     ]
    }
   ],
   "source": [
    "import os\n",
    "HOME = os.getcwd()\n",
    "print(HOME)"
   ]
  },
  {
   "cell_type": "markdown",
   "id": "d23b5fda",
   "metadata": {},
   "source": [
    "## Count/List Raw Vidoes"
   ]
  },
  {
   "cell_type": "code",
   "execution_count": 4,
   "id": "5f4ce7d5",
   "metadata": {},
   "outputs": [
    {
     "name": "stdout",
     "output_type": "stream",
     "text": [
      "\n",
      "📁 Directory: /Users/ngweimeng/Desktop/repositories/wave-detection/content/video_to_upload/*.mp4\n",
      "📊 Total .mp4 videos found: 20\n",
      "\n",
      "  1. canggu_video_10_12May1040H.mp4\n",
      "  2. canggu_video_11_12may1107H.mp4\n",
      "  3. canggu_video_12_12may1116H.mp4\n",
      "  4. canggu_video_13_12May_1127H.mp4\n",
      "  5. canggu_video_14_12May1143H.mp4\n",
      "  6. canggu_video_15_12may1152H.mp4\n",
      "  7. canggu_video_16_12May1200H.mp4\n",
      "  8. canggu_video_17_12may1210H.mp4\n",
      "  9. canggu_video_18_11May0650H.mp4\n",
      "  10. canggu_video_19_11May0715H.mp4\n",
      "  11. canggu_video_1_12May_0710H.mp4\n",
      "  12. canggu_video_20_11May0817H.mp4\n",
      "  13. canggu_video_2_12May_0747H.mp4\n",
      "  14. canggu_video_3_12May0815H.mp4\n",
      "  15. canggu_video_4_12May0852H.mp4\n",
      "  16. canggu_video_5_12_May0952H.mp4\n",
      "  17. canggu_video_6_12May1000H.mp4\n",
      "  18. canggu_video_7_12May1013H.mp4\n",
      "  19. canggu_video_8_12May1022H.mp4\n",
      "  20. canggu_video_9_12May1031h.mp4\n"
     ]
    }
   ],
   "source": [
    "import os\n",
    "import glob\n",
    "\n",
    "HOME = os.getcwd()\n",
    "video_pattern = f\"{HOME}/content/video_to_upload/*.mp4\"\n",
    "\n",
    "# Find all .mp4 videos in the specified path\n",
    "videos = sorted(glob.glob(video_pattern))\n",
    "\n",
    "# Count and display\n",
    "print(f\"\\n📁 Directory: {video_pattern}\")\n",
    "print(f\"📊 Total .mp4 videos found: {len(videos)}\\n\")\n",
    "\n",
    "for idx, video in enumerate(videos, 1):\n",
    "    print(f\"  {idx}. {os.path.basename(video)}\")"
   ]
  },
  {
   "cell_type": "markdown",
   "id": "8f686fe8",
   "metadata": {},
   "source": [
    "## Extract Frames"
   ]
  },
  {
   "cell_type": "code",
   "execution_count": 5,
   "id": "7f2c5528",
   "metadata": {},
   "outputs": [
    {
     "name": "stdout",
     "output_type": "stream",
     "text": [
      "🎞️ Found 20 .mp4 file(s). Starting frame extraction...\n",
      "\n",
      "[1/20] ⏭️ Skipping canggu_video_10_12May1040H (already extracted)\n",
      "[2/20] ⏭️ Skipping canggu_video_11_12may1107H (already extracted)\n",
      "[3/20] ⏭️ Skipping canggu_video_12_12may1116H (already extracted)\n",
      "[4/20] ⏭️ Skipping canggu_video_13_12May_1127H (already extracted)\n",
      "[5/20] ⏭️ Skipping canggu_video_14_12May1143H (already extracted)\n",
      "[6/20] ⏭️ Skipping canggu_video_15_12may1152H (already extracted)\n",
      "[7/20] ⏭️ Skipping canggu_video_16_12May1200H (already extracted)\n",
      "[8/20] ⏭️ Skipping canggu_video_17_12may1210H (already extracted)\n",
      "[9/20] ⏭️ Skipping canggu_video_18_11May0650H (already extracted)\n",
      "[10/20] ⏭️ Skipping canggu_video_19_11May0715H (already extracted)\n",
      "[11/20] ⏭️ Skipping canggu_video_1_12May_0710H (already extracted)\n",
      "[12/20] ⏭️ Skipping canggu_video_20_11May0817H (already extracted)\n",
      "[13/20] ⏭️ Skipping canggu_video_2_12May_0747H (already extracted)\n",
      "[14/20] ⏭️ Skipping canggu_video_3_12May0815H (already extracted)\n",
      "[15/20] ⏭️ Skipping canggu_video_4_12May0852H (already extracted)\n",
      "[16/20] ⏭️ Skipping canggu_video_5_12_May0952H (already extracted)\n",
      "[17/20] ⏭️ Skipping canggu_video_6_12May1000H (already extracted)\n",
      "[18/20] ⏭️ Skipping canggu_video_7_12May1013H (already extracted)\n",
      "[19/20] ⏭️ Skipping canggu_video_8_12May1022H (already extracted)\n",
      "[20/20] ⏭️ Skipping canggu_video_9_12May1031h (already extracted)\n",
      "\n",
      "✅ Frame extraction complete! All images saved under 'extracted_frames/'.\n"
     ]
    }
   ],
   "source": [
    "import os\n",
    "import glob\n",
    "import subprocess\n",
    "\n",
    "HOME = os.getcwd()\n",
    "base_dir = f\"{HOME}/content/video_to_upload\"\n",
    "output_base = f\"{HOME}/content/extracted_frames\"\n",
    "\n",
    "# Non-recursive search for .mp4 files\n",
    "mp4_files = glob.glob(f\"{base_dir}/*.mp4\")\n",
    "print(f\"🎞️ Found {len(mp4_files)} .mp4 file(s). Starting frame extraction...\\n\")\n",
    "\n",
    "for index, filepath in enumerate(sorted(mp4_files), 1):\n",
    "    filename_no_ext = os.path.splitext(os.path.basename(filepath))[0]\n",
    "\n",
    "    # Output folder to store frames\n",
    "    output_folder = os.path.join(output_base, filename_no_ext)\n",
    "\n",
    "    # Skip if already extracted\n",
    "    existing_frames = glob.glob(os.path.join(output_folder, \"frame_*.png\"))\n",
    "    if existing_frames:\n",
    "        print(f\"[{index}/{len(mp4_files)}] ⏭️ Skipping {filename_no_ext} (already extracted)\")\n",
    "        continue\n",
    "\n",
    "    os.makedirs(output_folder, exist_ok=True)\n",
    "    output_pattern = os.path.join(output_folder, \"frame_%04d.png\")\n",
    "\n",
    "    print(f\"[{index}/{len(mp4_files)}] 🎬 Extracting from {filename_no_ext} → {output_folder}\")\n",
    "\n",
    "    try:\n",
    "        subprocess.run([\n",
    "            \"ffmpeg\",\n",
    "            \"-hide_banner\",\n",
    "            \"-loglevel\", \"error\",\n",
    "            \"-i\", filepath,\n",
    "            \"-vf\", \"fps=1\",         # 1 frame per second\n",
    "            \"-q:v\", \"1\",            # Highest quality\n",
    "            \"-pix_fmt\", \"rgb24\",    # Standard pixel format\n",
    "            output_pattern\n",
    "        ], check=True)\n",
    "    except subprocess.CalledProcessError as e:\n",
    "        print(f\"❌ Frame extraction failed for {filepath}: {e}\")\n",
    "\n",
    "print(\"\\n✅ Frame extraction complete! All images saved under 'extracted_frames/'.\")\n",
    "\n"
   ]
  },
  {
   "cell_type": "markdown",
   "id": "ad5ac121",
   "metadata": {},
   "source": [
    "## Upload Video to Roboflow"
   ]
  },
  {
   "cell_type": "code",
   "execution_count": 14,
   "id": "bca7f7d9",
   "metadata": {},
   "outputs": [
    {
     "name": "stdout",
     "output_type": "stream",
     "text": [
      "Found existing installation: opencv-python 4.11.0.86\n",
      "Uninstalling opencv-python-4.11.0.86:\n",
      "  Successfully uninstalled opencv-python-4.11.0.86\n",
      "Found existing installation: opencv-python-headless 4.10.0.84\n",
      "Uninstalling opencv-python-headless-4.10.0.84:\n",
      "  Successfully uninstalled opencv-python-headless-4.10.0.84\n",
      "Collecting opencv-python-headless\n",
      "  Downloading opencv_python_headless-4.11.0.86-cp37-abi3-macosx_13_0_arm64.whl.metadata (20 kB)\n",
      "Requirement already satisfied: roboflow in ./.venv/lib/python3.12/site-packages (1.1.63)\n",
      "Collecting ffmpeg-python\n",
      "  Using cached ffmpeg_python-0.2.0-py3-none-any.whl.metadata (1.7 kB)\n",
      "Requirement already satisfied: numpy>=1.21.2 in ./.venv/lib/python3.12/site-packages (from opencv-python-headless) (2.2.5)\n",
      "Requirement already satisfied: certifi in ./.venv/lib/python3.12/site-packages (from roboflow) (2025.4.26)\n",
      "Requirement already satisfied: idna==3.7 in ./.venv/lib/python3.12/site-packages (from roboflow) (3.7)\n",
      "Requirement already satisfied: cycler in ./.venv/lib/python3.12/site-packages (from roboflow) (0.12.1)\n",
      "Requirement already satisfied: kiwisolver>=1.3.1 in ./.venv/lib/python3.12/site-packages (from roboflow) (1.4.8)\n",
      "Requirement already satisfied: matplotlib in ./.venv/lib/python3.12/site-packages (from roboflow) (3.10.1)\n",
      "Collecting opencv-python-headless\n",
      "  Using cached opencv_python_headless-4.10.0.84-cp37-abi3-macosx_11_0_arm64.whl.metadata (20 kB)\n",
      "Requirement already satisfied: Pillow>=7.1.2 in ./.venv/lib/python3.12/site-packages (from roboflow) (11.2.1)\n",
      "Requirement already satisfied: pillow-heif>=0.18.0 in ./.venv/lib/python3.12/site-packages (from roboflow) (0.22.0)\n",
      "Requirement already satisfied: python-dateutil in ./.venv/lib/python3.12/site-packages (from roboflow) (2.9.0.post0)\n",
      "Requirement already satisfied: python-dotenv in ./.venv/lib/python3.12/site-packages (from roboflow) (1.1.0)\n",
      "Requirement already satisfied: requests in ./.venv/lib/python3.12/site-packages (from roboflow) (2.32.3)\n",
      "Requirement already satisfied: six in ./.venv/lib/python3.12/site-packages (from roboflow) (1.17.0)\n",
      "Requirement already satisfied: urllib3>=1.26.6 in ./.venv/lib/python3.12/site-packages (from roboflow) (2.4.0)\n",
      "Requirement already satisfied: tqdm>=4.41.0 in ./.venv/lib/python3.12/site-packages (from roboflow) (4.67.1)\n",
      "Requirement already satisfied: PyYAML>=5.3.1 in ./.venv/lib/python3.12/site-packages (from roboflow) (6.0.2)\n",
      "Requirement already satisfied: requests-toolbelt in ./.venv/lib/python3.12/site-packages (from roboflow) (1.0.0)\n",
      "Requirement already satisfied: filetype in ./.venv/lib/python3.12/site-packages (from roboflow) (1.2.0)\n",
      "Collecting future (from ffmpeg-python)\n",
      "  Downloading future-1.0.0-py3-none-any.whl.metadata (4.0 kB)\n",
      "Requirement already satisfied: contourpy>=1.0.1 in ./.venv/lib/python3.12/site-packages (from matplotlib->roboflow) (1.3.2)\n",
      "Requirement already satisfied: fonttools>=4.22.0 in ./.venv/lib/python3.12/site-packages (from matplotlib->roboflow) (4.57.0)\n",
      "Requirement already satisfied: packaging>=20.0 in ./.venv/lib/python3.12/site-packages (from matplotlib->roboflow) (25.0)\n",
      "Requirement already satisfied: pyparsing>=2.3.1 in ./.venv/lib/python3.12/site-packages (from matplotlib->roboflow) (3.2.3)\n",
      "Requirement already satisfied: charset-normalizer<4,>=2 in ./.venv/lib/python3.12/site-packages (from requests->roboflow) (3.4.2)\n",
      "Using cached opencv_python_headless-4.10.0.84-cp37-abi3-macosx_11_0_arm64.whl (54.8 MB)\n",
      "Using cached ffmpeg_python-0.2.0-py3-none-any.whl (25 kB)\n",
      "Downloading future-1.0.0-py3-none-any.whl (491 kB)\n",
      "Installing collected packages: opencv-python-headless, future, ffmpeg-python\n",
      "\u001b[2K   \u001b[90m━━━━━━━━━━━━━━━━━━━━━━━━━━━━━━━━━━━━━━━━\u001b[0m \u001b[32m3/3\u001b[0m [ffmpeg-python]0m [future]\n",
      "\u001b[1A\u001b[2KSuccessfully installed ffmpeg-python-0.2.0 future-1.0.0 opencv-python-headless-4.10.0.84\n",
      "\n",
      "\u001b[1m[\u001b[0m\u001b[34;49mnotice\u001b[0m\u001b[1;39;49m]\u001b[0m\u001b[39;49m A new release of pip is available: \u001b[0m\u001b[31;49m25.1\u001b[0m\u001b[39;49m -> \u001b[0m\u001b[32;49m25.1.1\u001b[0m\n",
      "\u001b[1m[\u001b[0m\u001b[34;49mnotice\u001b[0m\u001b[1;39;49m]\u001b[0m\u001b[39;49m To update, run: \u001b[0m\u001b[32;49mpip install --upgrade pip\u001b[0m\n"
     ]
    }
   ],
   "source": [
    "!pip uninstall -y opencv-python opencv-python-headless\n",
    "!pip install opencv-python-headless roboflow ffmpeg-python\n"
   ]
  },
  {
   "cell_type": "code",
   "execution_count": 8,
   "id": "15b05495",
   "metadata": {},
   "outputs": [
    {
     "name": "stdout",
     "output_type": "stream",
     "text": [
      "loading Roboflow workspace...\n",
      "loading Roboflow project...\n"
     ]
    }
   ],
   "source": [
    "# workspace code\n",
    "from roboflow import Roboflow\n",
    "import json\n",
    "\n",
    "rf = Roboflow(api_key=\"jBi5ZoD965yEYPnwkqrZ\")\n",
    "project = rf.workspace(\"waverecognition\").project(\"wave-detection-weligama\")\n",
    "#version = project.version(\"YOUR_VERSION_AS_AN_INTERGER\")\n",
    "\n"
   ]
  },
  {
   "cell_type": "code",
   "execution_count": 17,
   "id": "e9d3473b",
   "metadata": {},
   "outputs": [
    {
     "name": "stdout",
     "output_type": "stream",
     "text": [
      "🧮 Total frames: 12000\n",
      "✅ Already uploaded: 12000\n",
      "📦 Remaining: 0\n",
      "\n"
     ]
    }
   ],
   "source": [
    "import os\n",
    "import glob\n",
    "import time\n",
    "\n",
    "# === Config ===\n",
    "HOME = os.getcwd()\n",
    "frames_dir = f\"{HOME}/content/extracted_frames\"\n",
    "log_path = f\"{HOME}/upload_log.txt\"  # Log of uploaded files\n",
    "max_retries = 3\n",
    "\n",
    "# === Step 1: Get all frame paths ===\n",
    "globbed_files = sorted(glob.glob(f\"{frames_dir}/**/*.png\", recursive=True))\n",
    "\n",
    "# === Step 2: Load already uploaded filenames ===\n",
    "if os.path.exists(log_path):\n",
    "    with open(log_path, 'r') as f:\n",
    "        uploaded_files = set(line.strip() for line in f.readlines())\n",
    "else:\n",
    "    uploaded_files = set()\n",
    "\n",
    "print(f\"🧮 Total frames: {len(globbed_files)}\")\n",
    "print(f\"✅ Already uploaded: {len(uploaded_files)}\")\n",
    "print(f\"📦 Remaining: {len(globbed_files) - len(uploaded_files)}\\n\")\n",
    "\n",
    "# === Step 3: Upload each file, skipping uploaded ones ===\n",
    "for index, image in enumerate(globbed_files):\n",
    "    if image in uploaded_files:\n",
    "        continue\n",
    "\n",
    "    print(f\"📤 Uploading [{index + 1}/{len(globbed_files)}]: {image}\")\n",
    "    \n",
    "    # Retry logic\n",
    "    for attempt in range(1, max_retries + 1):\n",
    "        try:\n",
    "            project.upload(\n",
    "                image,\n",
    "                sequence_number=index,\n",
    "                sequence_size=len(globbed_files)\n",
    "            )\n",
    "            # Log success\n",
    "            with open(log_path, 'a') as log_file:\n",
    "                log_file.write(image + \"\\n\")\n",
    "            break  # Exit retry loop\n",
    "        except Exception as e:\n",
    "            print(f\"⚠️ Attempt {attempt}/{max_retries} failed: {e}\")\n",
    "            if attempt == max_retries:\n",
    "                print(f\"❌ Skipping {image} after {max_retries} attempts.\\n\")\n",
    "            else:\n",
    "                time.sleep(3)  # Wait before retrying\n",
    "\n"
   ]
  },
  {
   "cell_type": "code",
   "execution_count": null,
   "id": "d42bfbd9",
   "metadata": {},
   "outputs": [],
   "source": [
    "import requests\n",
    "\n",
    "# Direct video URL from Surfline\n",
    "video_url = \"https://camrewinds.cdn-surfline.com/west-au/id-canggu.stream.20250507T105835425.mp4\"\n",
    "output_filename = \"canggu_20250507.mp4\"\n",
    "\n",
    "# Optional: headers to mimic a browser request\n",
    "headers = {\n",
    "    \"User-Agent\": \"Mozilla/5.0\"\n",
    "}\n",
    "\n",
    "print(\"📥 Downloading video...\")\n",
    "\n",
    "with requests.get(video_url, stream=True, headers=headers) as response:\n",
    "    response.raise_for_status()\n",
    "    with open(output_filename, \"wb\") as f:\n",
    "        for chunk in response.iter_content(chunk_size=8192):\n",
    "            f.write(chunk)\n",
    "\n",
    "print(f\"✅ Download complete: {output_filename}\")\n"
   ]
  }
 ],
 "metadata": {
  "kernelspec": {
   "display_name": ".venv",
   "language": "python",
   "name": "python3"
  },
  "language_info": {
   "codemirror_mode": {
    "name": "ipython",
    "version": 3
   },
   "file_extension": ".py",
   "mimetype": "text/x-python",
   "name": "python",
   "nbconvert_exporter": "python",
   "pygments_lexer": "ipython3",
   "version": "3.12.10"
  }
 },
 "nbformat": 4,
 "nbformat_minor": 5
}
